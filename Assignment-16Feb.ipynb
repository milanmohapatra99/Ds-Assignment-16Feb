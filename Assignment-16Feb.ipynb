{
 "cells": [
  {
   "cell_type": "markdown",
   "id": "db816992-60ac-4b55-bd73-d85242242ae4",
   "metadata": {},
   "source": [
    "Que:1. What is a database? Differentiate between SQL and NoSQL databases."
   ]
  },
  {
   "cell_type": "markdown",
   "id": "449592ed-e477-4dd5-9825-f4e690acdc63",
   "metadata": {},
   "source": [
    "Ans : Database:-\n",
    "\n",
    "Database is the place or medium which is used to store the data in a systemetic and organise manner.\n",
    "\n",
    "Differences between SQL and NoSQL database: \n",
    "    \n",
    "SQL :\n",
    "    \n",
    "=> SQL, which stands for “Structured Query Language,” is the programming language that’s been widely used in managing data in relational database management systems (RDBMS).\n",
    "\n",
    "=> SQL databases have fixed or static or predefined schema. \n",
    "\n",
    "=> SQL databases display data in form of tables so it is known as table-based database.\n",
    "\n",
    "=> SQL databases are vertically scalable.\n",
    "\n",
    "=> SQL databases are best suited for complex queries.\n",
    "\n",
    "=> SQL databases are not best suited for hierarchical data storage.\n",
    "\n",
    "=> Some Examples are MySQL, Oracle, Sqlite, PostgreSQL and MS-SQL etc.\n",
    "\n",
    "NoSQL :-\n",
    "\n",
    "=> NoSQL databases are categorized as Non-relational or distributed database system.\n",
    "\n",
    "=> NoSQL databases have dynamic schema.\n",
    "\n",
    "=> NoSQL databases display data as collection of key-value pair, documents, graph databases or wide-column stores.\n",
    "\n",
    "=> NoSQL databases are horizontally scalable.\n",
    "\n",
    "=> NoSQL databases are not so good for complex queries because these are not as powerful as SQL queries.\n",
    "\n",
    "=> NoSQL databases are best suited for hierarchical data storage.\n",
    "\n",
    "=> Some examples are MongoDB, BigTable, Redis, RavenDB, Cassandra, Hbase, Neo4j, CouchDB etc."
   ]
  },
  {
   "cell_type": "markdown",
   "id": "ee04d511-bd64-4abd-86c8-a068ec907605",
   "metadata": {},
   "source": [
    "Q2. What is DDL? Explain why CREATE, DROP, ALTER, and TRUNCATE are used with an example."
   ]
  },
  {
   "cell_type": "markdown",
   "id": "14e6d0c0-7a5c-4d17-959a-2e82099d1a87",
   "metadata": {},
   "source": [
    "Ans: DDL :- DDL stands for \"data definition language\" .it  is a computer language used to create and modify the structure of database objects in a database. These database objects include views, schemas, tables, indexes, etc.\n",
    "\n",
    "DDL commands as follows.\n",
    "\n",
    "1- Create : This command is used to create a new table in SQL. The user has to give information like table name, column names, and their datatypes.\n",
    "\n",
    "e.g :- \n",
    "CREATE TABLE Student\n",
    "(\n",
    "Student_Id INTEGER PRIMARY KEY,\n",
    "Student_name varchar(30),\n",
    "Branch varchar(10)\n",
    ");\n",
    "\n",
    "2- Alter : This command is used to add, delete or change columns in the existing table. The user needs to know the existing table name and can do add, delete or modify tasks easily.\n",
    "\n",
    "e.g: ALTER TABLE Student ADD PRIMARY KEY (student_pk);\n",
    "\n",
    "3- truncate : This command is used to remove all rows from the table, but the structure of the table still exists.\n",
    "\n",
    "e.g: TRUNCATE TABLE Student;\n",
    "\n",
    "\n",
    "4- drop : A drop command is used to delete objects such as a table, index or view. A DROP statement cannot be rolled back, so once an object is destroyed, there’s no way to recover it.\n",
    "\n",
    "e.g: DROP TABLE Student;\n",
    "\n"
   ]
  },
  {
   "cell_type": "markdown",
   "id": "fdf6f6fb-3ba7-4baf-b92d-6e9261aafbf6",
   "metadata": {},
   "source": [
    "Que:3. What is DML? Explain INSERT, UPDATE, and DELETE with an example."
   ]
  },
  {
   "cell_type": "markdown",
   "id": "9157270f-5117-4c91-abd9-9dcdef17a136",
   "metadata": {},
   "source": [
    "Ans : DML : \n",
    "\n",
    "DML stands for Data Manipulation Language, which is a set of SQL commands used to manipulate and modify the data stored in a database. DML statements are used to insert, update, delete, and retrieve data from a database.\n",
    "\n",
    "1- INSERT: This command adds one or more records to a database table. \n",
    "\n",
    "e.g:\n",
    "    \n",
    "Insert into Student(Student_id, Student_name) values (001, “ Milan”);\n",
    "Insert into Student(Student_id, Student_name) values (002, “ Silan”);\n",
    "Insert into Student(Student_id, Student_name) values (003, “ Khushi”);\n",
    "\n",
    "2- UPDATE: This command modifies data of one or more records.\n",
    "\n",
    "e.g :\n",
    "    \n",
    "UPDATE Student SET Student_name= Shreya WHERE Student_id= 001;\n",
    "\n",
    "3- DELETE: Delete command is used to delete records from a database table.\n",
    "\n",
    "e.g:\n",
    "    \n",
    "DELETE from Student WHERE Student_id=002;\n",
    "\n",
    "    \n",
    "\n"
   ]
  },
  {
   "cell_type": "markdown",
   "id": "51754c7e-7d25-4dd7-89c3-a871928eb752",
   "metadata": {},
   "source": [
    "Que:4. What is DQL? Explain SELECT with an example."
   ]
  },
  {
   "cell_type": "markdown",
   "id": "c9e39d1e-71f8-4fa5-9937-e280111e4422",
   "metadata": {},
   "source": [
    "Ans: DQL stands for Data Query Language, which is a subset of SQL used to retrieve data from a database. DQL statements are used to query the database and retrieve specific data based on specified criteria. \n",
    "The most commonly used DQL statement is SELECT.\n",
    "\n",
    "SELECT:\n",
    "    \n",
    "Select command helps you to select the attribute based on the condition described by the WHERE clause."
   ]
  },
  {
   "cell_type": "code",
   "execution_count": null,
   "id": "75946be4-e984-455f-8f5f-5ba2ef69e2fa",
   "metadata": {},
   "outputs": [],
   "source": [
    "SELECT Student_name FROM Student WHERE Student_id=003;"
   ]
  },
  {
   "cell_type": "markdown",
   "id": "1bcac765-c2fa-42e2-8335-4456062b8d86",
   "metadata": {},
   "source": [
    "Que:5. Explain Primary Key and Foreign Key."
   ]
  },
  {
   "cell_type": "markdown",
   "id": "e3e53314-2de1-4de1-a59b-60786f3b8bf2",
   "metadata": {},
   "source": [
    "Ans : Primary Key:-\n",
    "A Primary key is a unique column we set in a table to easily identify and locate data in queries. A table can have only one primary key.\n",
    "\n",
    "The primary key column has a unique value and doesn’t store repeating values. A Primary key can never take NULL values."
   ]
  },
  {
   "cell_type": "code",
   "execution_count": null,
   "id": "81052969-951a-471b-bc31-f22b6cb9655c",
   "metadata": {},
   "outputs": [],
   "source": [
    "CREATE TABLE Students (\n",
    "    id INT PRIMARY KEY,\n",
    "    name VARCHAR(100),\n",
    "    email VARCHAR(200),\n",
    "    age INT\n",
    ");"
   ]
  },
  {
   "cell_type": "markdown",
   "id": "86cc619d-8214-48f0-aa26-bbab61c791c3",
   "metadata": {},
   "source": [
    "Foreign key: -\n",
    "\n",
    "A Foreign key is beneficial when we connect two or more tables so that data from both can be put to use parallelly.\n",
    "\n",
    "A foreign key is a field or collection of fields in a table that refers to the Primary key of the other table. It is responsible for managing the relationship between the tables.\n",
    "\n",
    "The table which contains the foreign key is often called the child table, and the table whose primary key is being referred by the foreign key is called the Parent Table.\n",
    "\n"
   ]
  },
  {
   "cell_type": "code",
   "execution_count": null,
   "id": "53bf4b38-0e98-48ae-aee9-671891ec1ece",
   "metadata": {},
   "outputs": [],
   "source": [
    "CREATE TABLE Courses (\n",
    "    id INT PRIMARY KEY,\n",
    "    name VARCHAR(50),\n",
    "    instructor_id INT,\n",
    "    FOREIGN KEY (instructor_id) REFERENCES instructors(id)\n",
    ");"
   ]
  },
  {
   "cell_type": "markdown",
   "id": "d975e4ab-c27c-4518-8c3f-a0dedca366e7",
   "metadata": {},
   "source": [
    "Que: 6. Write a python code to connect MySQL to python. Explain the cursor() and execute() method."
   ]
  },
  {
   "cell_type": "markdown",
   "id": "330dcbdf-d64c-4913-9306-b68a00d12750",
   "metadata": {},
   "source": [
    "Ans: 1- Install MySQL connector module:\n",
    "    \n",
    "Use the pip command to install MySQL connector Python.\n"
   ]
  },
  {
   "cell_type": "code",
   "execution_count": 1,
   "id": "40deff4d-c574-4fab-8492-d031b5fb059c",
   "metadata": {},
   "outputs": [
    {
     "name": "stdout",
     "output_type": "stream",
     "text": [
      "Collecting mysql-connector-python\n",
      "  Downloading mysql_connector_python-8.0.32-cp310-cp310-manylinux1_x86_64.whl (23.5 MB)\n",
      "\u001b[2K     \u001b[90m━━━━━━━━━━━━━━━━━━━━━━━━━━━━━━━━━━━━━━━━\u001b[0m \u001b[32m23.5/23.5 MB\u001b[0m \u001b[31m22.7 MB/s\u001b[0m eta \u001b[36m0:00:00\u001b[0m00:01\u001b[0m00:01\u001b[0m\n",
      "\u001b[?25hCollecting protobuf<=3.20.3,>=3.11.0\n",
      "  Downloading protobuf-3.20.3-cp310-cp310-manylinux_2_12_x86_64.manylinux2010_x86_64.whl (1.1 MB)\n",
      "\u001b[2K     \u001b[90m━━━━━━━━━━━━━━━━━━━━━━━━━━━━━━━━━━━━━━━━\u001b[0m \u001b[32m1.1/1.1 MB\u001b[0m \u001b[31m71.0 MB/s\u001b[0m eta \u001b[36m0:00:00\u001b[0m\n",
      "\u001b[?25hInstalling collected packages: protobuf, mysql-connector-python\n",
      "  Attempting uninstall: protobuf\n",
      "    Found existing installation: protobuf 4.21.8\n",
      "    Uninstalling protobuf-4.21.8:\n",
      "      Successfully uninstalled protobuf-4.21.8\n",
      "Successfully installed mysql-connector-python-8.0.32 protobuf-3.20.3\n",
      "Note: you may need to restart the kernel to use updated packages.\n"
     ]
    }
   ],
   "source": [
    "pip install mysql-connector-python "
   ]
  },
  {
   "cell_type": "code",
   "execution_count": null,
   "id": "b9e72c34-71bd-4954-b832-d45418372980",
   "metadata": {},
   "outputs": [],
   "source": [
    "2- Import MySQL connector module:\n",
    "    \n",
    "Import using a import mysql.connector statement so you can use this module’s methods to communicate with the MySQL database.\n"
   ]
  },
  {
   "cell_type": "code",
   "execution_count": null,
   "id": "837a2505-8ca6-4965-8a61-98dd9f91e341",
   "metadata": {},
   "outputs": [],
   "source": [
    "import mysql.connector\n",
    "\n",
    "mydb = mysql.connector.connect(\n",
    "  host=\"localhost\",\n",
    "  user=\"username\",\n",
    "  password=\"password\",\n",
    "  database=\"database\"\n",
    ")\n",
    "\n",
    "mycursor = mydb.cursor()"
   ]
  },
  {
   "cell_type": "markdown",
   "id": "05194926-02bc-4bf0-9664-65d4191a13fc",
   "metadata": {},
   "source": [
    "3 -Use the connect() method:\n",
    "    \n",
    "Use the connect() method of the MySQL Connector class with the required arguments to connect MySQL. It would return a MySQLConnection object if the connection established successfully\n",
    "\n",
    "4- Use the cursor() method:\n",
    " \n",
    " Use the cursor() method of a MySQLConnection object to create a cursor object to perform various SQL operations.\n",
    "    \n",
    "5-  Use the execute() method :\n",
    "    \n",
    "The execute() methods run the SQL query and return the result.\n",
    "\n",
    "6- Extract result using fetchall():\n",
    "    \n",
    "Use cursor.fetchall() or fetchone() or fetchmany() to read query result.\n",
    "\n",
    "7- Close cursor and connection objects:\n",
    "    \n",
    "use cursor.clsoe() and connection.clsoe() method to close open connections after your work completes  \n"
   ]
  },
  {
   "cell_type": "markdown",
   "id": "b53d458d-3b52-47dc-84e0-c62f2159a56b",
   "metadata": {},
   "source": [
    "Que:7. Give the order of execution of SQL clauses in an SQL query."
   ]
  },
  {
   "cell_type": "markdown",
   "id": "968a1eec-ad41-49ce-b4e9-646baf12b14c",
   "metadata": {},
   "source": [
    "Ans : The order in which the clauses in queries are executed is as follows:\n",
    "\n",
    "1. FROM/JOIN: The FROM and/or JOIN clauses are executed first to determine the data of interest.\n",
    "\n",
    "2. WHERE: The WHERE clause is executed to filter out records that do not meet the constraints.\n",
    "\n",
    "3. GROUP BY: The GROUP BY clause is executed to group the data based on the values in one or more columns.\n",
    "\n",
    "4. HAVING: The HAVING clause is executed to remove the created grouped records that don’t meet the constraints.\n",
    "\n",
    "5. SELECT: The SELECT clause is executed to derive all desired columns and expressions.\n",
    "\n",
    "6. ORDER BY: The ORDER BY clause is executed to sort the derived values in ascending or descending order.\n",
    "\n",
    "7. LIMIT/OFFSET: Finally, the LIMIT and/or OFFSET clauses are executed to keep or skip a specified number of rows."
   ]
  }
 ],
 "metadata": {
  "kernelspec": {
   "display_name": "Python 3 (ipykernel)",
   "language": "python",
   "name": "python3"
  },
  "language_info": {
   "codemirror_mode": {
    "name": "ipython",
    "version": 3
   },
   "file_extension": ".py",
   "mimetype": "text/x-python",
   "name": "python",
   "nbconvert_exporter": "python",
   "pygments_lexer": "ipython3",
   "version": "3.10.6"
  }
 },
 "nbformat": 4,
 "nbformat_minor": 5
}
